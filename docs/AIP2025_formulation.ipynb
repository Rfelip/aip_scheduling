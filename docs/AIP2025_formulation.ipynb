{
 "cells": [
  {
   "cell_type": "markdown",
   "id": "f0e0dcc0-7697-4a42-aff7-5ff8da3779ea",
   "metadata": {},
   "source": [
    "# AIP2025 Formulation\n",
    "*Author: Edmilson Domingues*   \n",
    "*February, 2025*.\n",
    "\n",
    "This document describes a mathematical modeling of the AIP2025 Applied Inverse Problems Project.\n"
   ]
  },
  {
   "cell_type": "markdown",
   "id": "0beafb69-2b6a-46b2-8bf4-86d65c06c55f",
   "metadata": {},
   "source": [
    "### Input Data Model"
   ]
  },
  {
   "cell_type": "markdown",
   "id": "99ce23d6-6e78-4aaf-85c0-f36e7aa07f99",
   "metadata": {},
   "source": [
    "#### Indices\n",
    "- $M$: Collection of minisymposia;\n",
    "- $B$: Collection of blocks;\n",
    "- $S$: Collection of sessions;\n",
    "- $P$: Collection of parallels;\n",
    "- $O$: Collection of Organizers;\n",
    "- $K$: Collection of Speakers."
   ]
  },
  {
   "cell_type": "markdown",
   "id": "44bff38c-c378-43a2-bce8-f94d8fc1d304",
   "metadata": {},
   "source": [
    "#### Parameters\n",
    "- $Gmini_{m}$: Group formed by tuples (m, b) that make up a single minisymposium $m$. Example: $Gmini_{1} = \\{ (1, 1), (1, 2), (1, 3)\\}$;\n",
    "- $Gspeaker_{k}$: Group formed by tuples (m, b) corresponding to the minisymposia and corresponding blocks where the speakers $k$ present themselves. Example: $Gspeaker_{12} = \\{ (7, 1), (10, 3) \\}$;\n",
    "- $Gorganizer_{o}$: Group formed by tuples (m, b) corresponding to the minisymposia and corresponding blocks that the organizer $o$ organizes or gives his lectures. Example: $Gorganizer_{4} = \\{ (8, 1), (8, 2), (8, 3), (11, 1) \\}$;\n",
    "- $Gspecial$: Group formed by tuples (m, b, s, p) whose elements are predefined. There are 4 cases;\n",
    "- $cs_{s_{1}s_{2}}$: Cost of moving from one block to another, taking into account temporal aspects. The costs are available in a table;\n",
    "- $cp_{p_{1}p_{2}}$:  Cost of moving from one block to another, taking into account physical aspects (different floors, elevator on the way, etc.. The costs are available in a table.\n"
   ]
  },
  {
   "cell_type": "markdown",
   "id": "848e1231-1f83-4c0d-a0a0-87fb992855b2",
   "metadata": {},
   "source": [
    "#### Decision Variables\n",
    "- $x_{mbsp}$:\n",
    "\\begin{cases}\n",
    "\t\t1, & \\text{if minisymposium $m$, block $b$ is allocated in session $s$, parallel $p$} \\nonumber\\\\\n",
    "\t\t0, & \\text{otherwise}\n",
    "\\end{cases}\n",
    "- $y_{mb_{1}b_{2}s_{1}s_{2}}$:\n",
    "\\begin{cases}\n",
    "\t\t1, & \\text{if minisymposium $m$, block $b_{1}$ has a connection to the block $b_{2}$, starting in session $s_{1}$ and ending in session $s_{2}$} \\nonumber\\\\\n",
    "\t\t0, & \\text{otherwise}\n",
    "\\end{cases}\n",
    "- $z_{mb_{1}b_{2}p_{1}p_{2}}$:\n",
    "\\begin{cases}\n",
    "\t\t1, & \\text{if minisymposium $m$, block $b_{1}$ has a connection to the block $b_{2}$, starting in parallel $p_{1}$ and ending in parallel $p_{2}$} \\nonumber\\\\\n",
    "\t\t0, & \\text{otherwise}\n",
    "\\end{cases}\n",
    "\n"
   ]
  },
  {
   "cell_type": "markdown",
   "id": "f109cb63-c19d-433b-893d-3f8ebd23a537",
   "metadata": {},
   "source": [
    "### Constraints\n",
    "\n",
    "* C1) Each session $s$  can only include a single minisymposium (MS) block:\n",
    " \n",
    "$$\\sum_{m} \\sum_{b} x_{mbsp} \\leq 1, \\quad \\forall s, p.$$\n",
    "\n",
    "* C2) Every MS must be composed for all its blocks, that is, each block must have a garanteed allocation:\n",
    "$$\\sum_{s} \\sum_{p} x_{mbsp} = 1, \\quad \\forall m, b\\ \\ \\ \\ b \\in B_{m}.$$\n",
    "\n",
    "* C3) Each visiting participant must be able to watch an MS in its entirely, that is, there can be no temporal intersection between blocks:\n",
    "$$\\sum_{p} \\sum_{(m, b)\\in Gmini_{m}} x_{mbsp} \\leq 1, \\quad \\forall m, s.$$\n",
    "\n",
    "* C4) Every speaker who presents in more than one MS must have their participation guarantee in them, and there cannot be a temporal overlap that prevents them from giving their lectures:\n",
    "$$\\sum_{p} \\sum_{(m, b)\\in G{speaker}_{k}} x_{mbsp} \\leq 1, \\quad \\forall k, s.$$\n",
    "\n",
    "* C5) Every participation of the organizer there cannot be a temporal overlap between MS that he organizes or speaks at:\n",
    "$$\\sum_{p} \\sum_{(m, b)\\in G{organizer}_{o}} x_{mbsp} \\leq 1, \\quad \\forall o, s.$$\n",
    "\n",
    "Obs.: Constraints C3, C4 and C5 can be summarized into one.\n",
    "\n",
    "* C6) There is a special set with fixed allocation.\n",
    "$$x_{mbsp} = 1, \\quad \\forall {(m, b, s, p)\\in G{special}}.$$\n",
    "\n",
    "* C7) The connection between blocks of the same MS is characterized by the sequence of sessions occupied by these blocks:\n",
    "$$ 2 \\sum_{p} x_{mb_{1}s_{1}p} + 2 \\sum_{p} x_{mb_{2}s_{2}p} \\geq 3 - 10 (1 - y_{mb_{1}b_{2}s_{1}s_{2}}), \\quad \\forall m, b_{1}, b_{2}, s_{1}, s_{2} \\ \\ \\, \\ \\ b_{2} \\in B_{m}, b_{2} \\neq 1, b_{1} = b_{2} - 1.$$\n",
    "$$ 2 \\sum_{p} x_{mb_{1}s_{1}p} + 2 \\sum_{p} x_{mb_{2}s_{2}p} \\leq 3 + 10 (y_{mb_{1}b_{2}s_{1}s_{2}}), \\quad \\forall m, b_{1}, b_{2}, s_{1}, s_{2} \\ \\ \\, \\ \\ b_{2} \\in B_{m}, b_{2} \\neq 1, b_{1} = b_{2} - 1.$$\n",
    "Alternatively:\n",
    "$$y_{mb_{1}b_{2}s_{1}s_{2}} \\leq \\sum_{p} x_{mb_{1}s_{1}p}, \\quad \\forall m, b_{1}, b_{2}, s_{1}, s_{2} \\ \\ \\, \\ \\ b_{2} \\in B_{m}, b_{2} \\neq 1, b_{1} = b_{2} - 1.$$\n",
    "$$y_{mb_{1}b_{2}s_{1}s_{2}} \\leq \\sum_{p} x_{mb_{2}s_{2}p}, \\quad \\forall m, b_{1}, b_{2}, s_{1}, s_{2} \\ \\ \\, \\ \\ b_{2} \\in B_{m}, b_{2} \\neq 1, b_{1} = b_{2} - 1.$$\n",
    "$$\\sum_{p} x_{mb_{1}s_{1}p} + \\sum_{p} x_{mb_{2}s_{2}p} \\ \\ \\ - 1 \\leq y_{mb_{1}b_{2}s_{1}s_{2}}, \\quad \\forall m, b_{1}, b_{2}, s_{1}, s_{2} \\ \\ \\, \\ \\ b_{2} \\in B_{m}, b_{2} \\neq 1, b_{1} = b_{2} - 1.$$ \n",
    "\n",
    "* C8) The connection between blocks of the same MS is also characterized by the sequence of parallels occupied by these blocks:\n",
    "\n",
    "$$ 2 \\sum_{s} x_{mb_{1}sp_{1}} + 2 \\sum_{s} x_{mb_{2}sp_{2}} \\geq 3 - 10 (1 - z_{mb_{1}b_{2}p_{1}p_{2}}), \\quad \\forall m, b_{1}, b_{2}, p_{1}, p_{2} \\ \\ \\, \\ \\ b_{2} \\in B_{m}, b_{2} \\neq 1, b_{1} = b_{2} - 1.$$\n",
    "$$ 2 \\sum_{s} x_{mb_{1}sp_{1}} + 2 \\sum_{s} x_{mb_{2}sp_{2}} \\leq 3 + 10 (z_{mb_{1}b_{2}p_{1}p_{2}}), \\quad \\forall m, b_{1}, b_{2}, p_{1}, p_{2} \\ \\ \\, \\ \\ b_{2} \\in B_{m}, b_{2} \\neq 1, b_{1} = b_{2} - 1.$$\n",
    "Alternatively:\n",
    "$$z_{mb_{1}b_{2}p_{1}p_{2}} \\leq \\sum_{s} x_{mb_{1}sp_{1}}, \\quad \\forall m, b_{1}, b_{2}, p_{1}, p_{2} \\ \\ \\, \\ \\ b_{2} \\in B_{m}, b_{2} \\neq 1, b_{1} = b_{2} - 1.$$\n",
    "$$z_{mb_{1}b_{2}p_{1}p_{2}} \\leq \\sum_{s} x_{mb_{2}sp_{2}}, \\quad \\forall m, b_{1}, b_{2}, p_{1}, p_{2} \\ \\ \\, \\ \\ b_{2} \\in B_{m}, b_{2} \\neq 1, b_{1} = b_{2} - 1.$$\n",
    "$$\\sum_{s} x_{mb_{1}sp_{1}} + \\sum_{s} x_{mb_{2}sp_{2}} \\ \\ \\ - 1 \\leq z_{mb_{1}b_{2}p_{1}p_{2}}, \\quad \\forall m, b_{1}, b_{2}, p_{1}, p_{2} \\ \\ \\, \\ \\ b_{2} \\in B_{m}, b_{2} \\neq 1, b_{1} = b_{2} - 1.$$ \n"
   ]
  },
  {
   "cell_type": "markdown",
   "id": "2d074d56-5264-4bb8-93c5-605545de605d",
   "metadata": {},
   "source": [
    "### Objective\n",
    "The goal is to minimize the total cost:\n",
    "\n",
    "$$\\min{\\sum_{m} \\sum_{b_{1}} \\sum_{b_{2}} \\sum_{s_{1}} \\sum_{s_{2}} y_{mb_{1}b_{2}s_{1}s_{2}} \\cdot cs_{s_{1}s_{2}}  + \\sum_{m} \\sum_{b_{1}} \\sum_{b_{2}} \\sum_{p_{1}} \\sum_{p_{2}} z_{mb_{1}b_{2}p_{1}p_{2}} \\cdot cp_{p_{1}p_{2}} }, \\quad b_{2} \\in B_{m}, b_{2} \\neq 1, b_{1} = b_{2} - 1.$$"
   ]
  },
  {
   "cell_type": "markdown",
   "id": "6ba10761-598f-4956-9b21-ac1b07fef550",
   "metadata": {},
   "source": [
    "### Considerações feitas nesta modelagem ou observações que merecem destaque (item a ser deletado):\n",
    "\n",
    "- Ninguém consegue participar de mais de 9 eventos (total de sessões);\n",
    "- Não foi criada um índice que trate de pessoas (joker: poderia ser um organizador ou palestrante) já que considera-se uma conexão direta entre o participante e o MS no qual terá participação;\n",
    "- Para organizadores teremos que criar uma estratégia de alocação. Exemplo: alocar apenas um organizador por MS (e anotar sua $f_{objetivo}$), colocar um segundo organizador para este mesmo MS (e anotar a nova $f_{objetivo}$) e assim por diante, avaliando o quanto piora;\n",
    "- No caso de um MS que tenha mais de um bloco e não quisermos entrar no mérito de a qual bloco está alocado um palestrante, teremos que alocar este palestrante em todos os blocos;\n",
    "- Pode acontecer de, para um dado MS, bloco 1 ser alocado após bloco 2, mas é pouco provável, já que os custos atrelados a esta disposição serão maiores;\n",
    "- Talvez o segundo termo da função objetivo possa ser eliminado;\n",
    "- Imagina-se que para cada paralela teremos uma sala única.\n",
    "\n"
   ]
  }
 ],
 "metadata": {
  "kernelspec": {
   "display_name": "Python 3 (ipykernel)",
   "language": "python",
   "name": "python3"
  },
  "language_info": {
   "codemirror_mode": {
    "name": "ipython",
    "version": 3
   },
   "file_extension": ".py",
   "mimetype": "text/x-python",
   "name": "python",
   "nbconvert_exporter": "python",
   "pygments_lexer": "ipython3",
   "version": "3.12.4"
  }
 },
 "nbformat": 4,
 "nbformat_minor": 5
}
